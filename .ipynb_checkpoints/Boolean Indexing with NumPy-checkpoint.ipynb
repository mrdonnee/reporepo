{
 "cells": [
  {
   "cell_type": "markdown",
   "metadata": {},
   "source": [
    "Boolean Indexing with NumPy"
   ]
  },
  {
   "cell_type": "code",
   "execution_count": 1,
   "metadata": {
    "collapsed": true
   },
   "outputs": [],
   "source": [
    "import numpy as np"
   ]
  },
  {
   "cell_type": "code",
   "execution_count": 4,
   "metadata": {},
   "outputs": [],
   "source": [
    "#read csv file into Numpy\n",
    "taxi =np.genfromtxt(\"nyc_taxis.csv\", delimiter = ',')\n",
    "taxi_shape = taxi.shape"
   ]
  },
  {
   "cell_type": "code",
   "execution_count": 5,
   "metadata": {
    "collapsed": true
   },
   "outputs": [],
   "source": [
    "#read csv file into Numpty and skip 1st row\n",
    "taxi = np.genfromtxt(\"nyc_taxis.csv\", delimiter = ',', skip_header = 1)"
   ]
  },
  {
   "cell_type": "code",
   "execution_count": 6,
   "metadata": {
    "collapsed": true
   },
   "outputs": [],
   "source": [
    "#boolean array\n",
    "a = np.array([1, 2, 3, 4, 5])\n",
    "b = np.array([\"blue\", \"blue\", \"red\", \"blue\"])\n",
    "c = np.array([80.0, 103.4, 96.9, 200.3])"
   ]
  },
  {
   "cell_type": "code",
   "execution_count": 7,
   "metadata": {},
   "outputs": [
    {
     "data": {
      "text/plain": [
       "array([1, 2, 3, 4, 5])"
      ]
     },
     "execution_count": 7,
     "metadata": {},
     "output_type": "execute_result"
    }
   ],
   "source": [
    "a"
   ]
  },
  {
   "cell_type": "code",
   "execution_count": 8,
   "metadata": {},
   "outputs": [
    {
     "data": {
      "text/plain": [
       "array(['blue', 'blue', 'red', 'blue'],\n",
       "      dtype='<U4')"
      ]
     },
     "execution_count": 8,
     "metadata": {},
     "output_type": "execute_result"
    }
   ],
   "source": [
    "b"
   ]
  },
  {
   "cell_type": "code",
   "execution_count": 9,
   "metadata": {},
   "outputs": [
    {
     "data": {
      "text/plain": [
       "array([  80. ,  103.4,   96.9,  200.3])"
      ]
     },
     "execution_count": 9,
     "metadata": {},
     "output_type": "execute_result"
    }
   ],
   "source": [
    "c"
   ]
  },
  {
   "cell_type": "code",
   "execution_count": 10,
   "metadata": {
    "collapsed": true
   },
   "outputs": [],
   "source": [
    "a_bool = np.array(a < 3)"
   ]
  },
  {
   "cell_type": "code",
   "execution_count": 11,
   "metadata": {},
   "outputs": [
    {
     "data": {
      "text/plain": [
       "array([ True,  True, False, False, False], dtype=bool)"
      ]
     },
     "execution_count": 11,
     "metadata": {},
     "output_type": "execute_result"
    }
   ],
   "source": [
    "a_bool"
   ]
  },
  {
   "cell_type": "code",
   "execution_count": 12,
   "metadata": {
    "collapsed": true
   },
   "outputs": [],
   "source": [
    "b_bool = np.array(b == \"blue\")"
   ]
  },
  {
   "cell_type": "code",
   "execution_count": 13,
   "metadata": {},
   "outputs": [
    {
     "data": {
      "text/plain": [
       "array([ True,  True, False,  True], dtype=bool)"
      ]
     },
     "execution_count": 13,
     "metadata": {},
     "output_type": "execute_result"
    }
   ],
   "source": [
    "b_bool"
   ]
  },
  {
   "cell_type": "code",
   "execution_count": 14,
   "metadata": {
    "collapsed": true
   },
   "outputs": [],
   "source": [
    "c_bool = np.array(c > 100)"
   ]
  },
  {
   "cell_type": "code",
   "execution_count": 15,
   "metadata": {},
   "outputs": [
    {
     "data": {
      "text/plain": [
       "array([False,  True, False,  True], dtype=bool)"
      ]
     },
     "execution_count": 15,
     "metadata": {},
     "output_type": "execute_result"
    }
   ],
   "source": [
    "c_bool"
   ]
  },
  {
   "cell_type": "code",
   "execution_count": 17,
   "metadata": {},
   "outputs": [],
   "source": [
    "#boolean indexing by using [] brackets\n",
    "pickup_month = taxi[:,1]\n"
   ]
  },
  {
   "cell_type": "code",
   "execution_count": 18,
   "metadata": {
    "collapsed": true
   },
   "outputs": [],
   "source": [
    "january_bool = pickup_month == 1"
   ]
  },
  {
   "cell_type": "code",
   "execution_count": 19,
   "metadata": {},
   "outputs": [
    {
     "data": {
      "text/plain": [
       "array([ True,  True,  True, ..., False, False, False], dtype=bool)"
      ]
     },
     "execution_count": 19,
     "metadata": {},
     "output_type": "execute_result"
    }
   ],
   "source": [
    "january_bool"
   ]
  },
  {
   "cell_type": "code",
   "execution_count": 20,
   "metadata": {
    "collapsed": true
   },
   "outputs": [],
   "source": [
    "january = pickup_month[january_bool]"
   ]
  },
  {
   "cell_type": "code",
   "execution_count": 21,
   "metadata": {},
   "outputs": [
    {
     "data": {
      "text/plain": [
       "array([ 1.,  1.,  1., ...,  1.,  1.,  1.])"
      ]
     },
     "execution_count": 21,
     "metadata": {},
     "output_type": "execute_result"
    }
   ],
   "source": [
    "january"
   ]
  },
  {
   "cell_type": "code",
   "execution_count": 22,
   "metadata": {
    "collapsed": true
   },
   "outputs": [],
   "source": [
    "january_rides = january.shape[0]"
   ]
  },
  {
   "cell_type": "code",
   "execution_count": 23,
   "metadata": {},
   "outputs": [
    {
     "data": {
      "text/plain": [
       "13481"
      ]
     },
     "execution_count": 23,
     "metadata": {},
     "output_type": "execute_result"
    }
   ],
   "source": [
    "january_rides"
   ]
  },
  {
   "cell_type": "code",
   "execution_count": 24,
   "metadata": {
    "collapsed": true
   },
   "outputs": [],
   "source": [
    "february_bool = pickup_month == 2"
   ]
  },
  {
   "cell_type": "code",
   "execution_count": 25,
   "metadata": {},
   "outputs": [
    {
     "data": {
      "text/plain": [
       "array([False, False, False, ..., False, False, False], dtype=bool)"
      ]
     },
     "execution_count": 25,
     "metadata": {},
     "output_type": "execute_result"
    }
   ],
   "source": [
    "february_bool"
   ]
  },
  {
   "cell_type": "code",
   "execution_count": 26,
   "metadata": {
    "collapsed": true
   },
   "outputs": [],
   "source": [
    "february = pickup_month[february_bool]"
   ]
  },
  {
   "cell_type": "code",
   "execution_count": 27,
   "metadata": {},
   "outputs": [
    {
     "data": {
      "text/plain": [
       "array([ 2.,  2.,  2., ...,  2.,  2.,  2.])"
      ]
     },
     "execution_count": 27,
     "metadata": {},
     "output_type": "execute_result"
    }
   ],
   "source": [
    "february"
   ]
  },
  {
   "cell_type": "code",
   "execution_count": 28,
   "metadata": {
    "collapsed": true
   },
   "outputs": [],
   "source": [
    "february_rides = february.shape[0]"
   ]
  },
  {
   "cell_type": "code",
   "execution_count": 29,
   "metadata": {},
   "outputs": [
    {
     "data": {
      "text/plain": [
       "13333"
      ]
     },
     "execution_count": 29,
     "metadata": {},
     "output_type": "execute_result"
    }
   ],
   "source": [
    "february_rides"
   ]
  },
  {
   "cell_type": "code",
   "execution_count": 30,
   "metadata": {
    "collapsed": true
   },
   "outputs": [],
   "source": [
    "#calculate the average speed\n",
    "trip_mph = taxi[:,7] / (taxi[:, 8] / 3600)"
   ]
  },
  {
   "cell_type": "code",
   "execution_count": 31,
   "metadata": {},
   "outputs": [
    {
     "data": {
      "text/plain": [
       "array([ 37.11340206,  38.58157895,  31.27222982, ...,  22.29907867,\n",
       "        42.41551247,  36.90473407])"
      ]
     },
     "execution_count": 31,
     "metadata": {},
     "output_type": "execute_result"
    }
   ],
   "source": [
    "trip_mph"
   ]
  },
  {
   "cell_type": "code",
   "execution_count": 32,
   "metadata": {
    "collapsed": true
   },
   "outputs": [],
   "source": [
    "trip_mph_bool = trip_mph > 20000"
   ]
  },
  {
   "cell_type": "code",
   "execution_count": 33,
   "metadata": {},
   "outputs": [
    {
     "data": {
      "text/plain": [
       "array([False, False, False, ..., False, False, False], dtype=bool)"
      ]
     },
     "execution_count": 33,
     "metadata": {},
     "output_type": "execute_result"
    }
   ],
   "source": [
    "trip_mph_bool"
   ]
  },
  {
   "cell_type": "code",
   "execution_count": 36,
   "metadata": {
    "collapsed": true
   },
   "outputs": [],
   "source": [
    "trips_over_20000_mph = taxi[trip_mph_bool, 5:9]"
   ]
  },
  {
   "cell_type": "code",
   "execution_count": 37,
   "metadata": {},
   "outputs": [
    {
     "name": "stdout",
     "output_type": "stream",
     "text": [
      "[[  2.    2.   23.    1. ]\n",
      " [  2.    2.   19.6   1. ]\n",
      " [  2.    2.   16.7   2. ]\n",
      " [  3.    3.   17.8   2. ]\n",
      " [  2.    2.   17.2   2. ]\n",
      " [  3.    3.   16.9   3. ]\n",
      " [  2.    2.   27.1   4. ]]\n"
     ]
    }
   ],
   "source": [
    "print(trips_over_20000_mph)"
   ]
  },
  {
   "cell_type": "code",
   "execution_count": 38,
   "metadata": {
    "collapsed": true
   },
   "outputs": [],
   "source": [
    "#tip amount\n",
    "tip_amount = taxi[:,12]"
   ]
  },
  {
   "cell_type": "code",
   "execution_count": 39,
   "metadata": {
    "collapsed": true
   },
   "outputs": [],
   "source": [
    "tip_bool = tip_amount > 50"
   ]
  },
  {
   "cell_type": "code",
   "execution_count": 40,
   "metadata": {},
   "outputs": [
    {
     "data": {
      "text/plain": [
       "array([False, False, False, ..., False, False, False], dtype=bool)"
      ]
     },
     "execution_count": 40,
     "metadata": {},
     "output_type": "execute_result"
    }
   ],
   "source": [
    "tip_bool"
   ]
  },
  {
   "cell_type": "code",
   "execution_count": 41,
   "metadata": {
    "collapsed": true
   },
   "outputs": [],
   "source": [
    "top_tips = taxi[tip_bool, 5:14]"
   ]
  },
  {
   "cell_type": "code",
   "execution_count": 42,
   "metadata": {},
   "outputs": [
    {
     "data": {
      "text/plain": [
       "array([[  4.00000000e+00,   2.00000000e+00,   2.14500000e+01,\n",
       "          2.00400000e+03,   5.20000000e+01,   8.00000000e-01,\n",
       "          0.00000000e+00,   5.28000000e+01,   1.05600000e+02],\n",
       "       [  3.00000000e+00,   4.00000000e+00,   9.20000000e+00,\n",
       "          1.04100000e+03,   2.70000000e+01,   1.30000000e+00,\n",
       "          5.54000000e+00,   6.00000000e+01,   9.38400000e+01],\n",
       "       [  2.00000000e+00,   0.00000000e+00,   1.98000000e+01,\n",
       "          1.67100000e+03,   5.25000000e+01,   1.30000000e+00,\n",
       "          5.54000000e+00,   5.93400000e+01,   1.18680000e+02],\n",
       "       [  4.00000000e+00,   2.00000000e+00,   1.84200000e+01,\n",
       "          2.96800000e+03,   5.20000000e+01,   8.00000000e-01,\n",
       "          5.54000000e+00,   8.00000000e+01,   1.38340000e+02],\n",
       "       [  3.00000000e+00,   6.00000000e+00,   4.90000000e-01,\n",
       "          1.58000000e+02,   3.50000000e+00,   1.80000000e+00,\n",
       "          0.00000000e+00,   7.00000000e+01,   7.53000000e+01],\n",
       "       [  2.00000000e+00,   2.00000000e+00,   2.70000000e+00,\n",
       "          3.81000000e+02,   9.50000000e+00,   8.00000000e-01,\n",
       "          0.00000000e+00,   6.00000000e+01,   7.03000000e+01],\n",
       "       [  3.00000000e+00,   4.00000000e+00,   9.54000000e+00,\n",
       "          1.21000000e+03,   2.75000000e+01,   8.00000000e-01,\n",
       "          5.54000000e+00,   5.50000000e+01,   8.88400000e+01],\n",
       "       [  2.00000000e+00,   4.00000000e+00,   1.76000000e+01,\n",
       "          3.25100000e+03,   5.20000000e+01,   8.00000000e-01,\n",
       "          5.54000000e+00,   6.50000000e+01,   1.23340000e+02],\n",
       "       [  4.00000000e+00,   2.00000000e+00,   3.82000000e+01,\n",
       "          9.25200000e+03,   5.20000000e+01,   8.00000000e-01,\n",
       "          5.54000000e+00,   8.00000000e+01,   1.38340000e+02],\n",
       "       [  4.00000000e+00,   2.00000000e+00,   1.80000000e+01,\n",
       "          2.27600000e+03,   1.00000000e-02,   3.00000000e-01,\n",
       "          5.54000000e+00,   6.20000000e+01,   6.78500000e+01],\n",
       "       [  2.00000000e+00,   0.00000000e+00,   2.62100000e+01,\n",
       "          1.70290000e+04,   1.80500000e+02,   8.00000000e-01,\n",
       "          5.54000000e+00,   1.00000000e+02,   2.86840000e+02],\n",
       "       [  2.00000000e+00,   2.00000000e+00,   0.00000000e+00,\n",
       "          2.40000000e+01,   2.50000000e+00,   8.00000000e-01,\n",
       "          0.00000000e+00,   5.80000000e+01,   6.13000000e+01],\n",
       "       [  2.00000000e+00,   1.00000000e+00,   1.82100000e+01,\n",
       "          3.16000000e+03,   5.55000000e+01,   8.00000000e-01,\n",
       "          0.00000000e+00,   6.20000000e+01,   1.18300000e+02],\n",
       "       [  2.00000000e+00,   2.00000000e+00,   0.00000000e+00,\n",
       "          3.00000000e+00,   2.50000000e+00,   1.80000000e+00,\n",
       "          0.00000000e+00,   7.57000000e+01,   8.00000000e+01],\n",
       "       [  2.00000000e+00,   4.00000000e+00,   1.86800000e+01,\n",
       "          5.24700000e+03,   5.20000000e+01,   8.00000000e-01,\n",
       "          5.54000000e+00,   6.00000000e+01,   1.18340000e+02],\n",
       "       [  4.00000000e+00,   2.00000000e+00,   1.81700000e+01,\n",
       "          5.86000000e+03,   5.20000000e+01,   8.00000000e-01,\n",
       "          5.54000000e+00,   7.00000000e+01,   1.28340000e+02]])"
      ]
     },
     "execution_count": 42,
     "metadata": {},
     "output_type": "execute_result"
    }
   ],
   "source": [
    "top_tips"
   ]
  },
  {
   "cell_type": "code",
   "execution_count": 43,
   "metadata": {
    "collapsed": true
   },
   "outputs": [],
   "source": [
    "#pseudocode = ndarray[location_of_values] = new_values\n",
    "a = np.array(['red', 'blue', 'black', 'blue', 'purple'])"
   ]
  },
  {
   "cell_type": "code",
   "execution_count": 44,
   "metadata": {
    "collapsed": true
   },
   "outputs": [],
   "source": [
    "a[0] = 'orange'"
   ]
  },
  {
   "cell_type": "code",
   "execution_count": 45,
   "metadata": {},
   "outputs": [
    {
     "name": "stdout",
     "output_type": "stream",
     "text": [
      "['orange' 'blue' 'black' 'blue' 'purple']\n"
     ]
    }
   ],
   "source": [
    "print(a)"
   ]
  },
  {
   "cell_type": "code",
   "execution_count": 46,
   "metadata": {
    "collapsed": true
   },
   "outputs": [],
   "source": [
    "a[3:] = 'pink'"
   ]
  },
  {
   "cell_type": "code",
   "execution_count": 47,
   "metadata": {},
   "outputs": [
    {
     "name": "stdout",
     "output_type": "stream",
     "text": [
      "['orange' 'blue' 'black' 'pink' 'pink']\n"
     ]
    }
   ],
   "source": [
    "print(a)"
   ]
  },
  {
   "cell_type": "code",
   "execution_count": 48,
   "metadata": {
    "collapsed": true
   },
   "outputs": [],
   "source": [
    "#2d ndarray\n",
    "ones = np.array([[1, 1, 1, 1, 1], [1, 1, 1, 1, 1], [1, 1, 1, 1, 1]])"
   ]
  },
  {
   "cell_type": "code",
   "execution_count": 49,
   "metadata": {
    "collapsed": true
   },
   "outputs": [],
   "source": [
    "ones[1,2] = 99"
   ]
  },
  {
   "cell_type": "code",
   "execution_count": 50,
   "metadata": {},
   "outputs": [
    {
     "name": "stdout",
     "output_type": "stream",
     "text": [
      "[[ 1  1  1  1  1]\n",
      " [ 1  1 99  1  1]\n",
      " [ 1  1  1  1  1]]\n"
     ]
    }
   ],
   "source": [
    "print(ones)"
   ]
  },
  {
   "cell_type": "code",
   "execution_count": 51,
   "metadata": {
    "collapsed": true
   },
   "outputs": [],
   "source": [
    "ones[0] = 42"
   ]
  },
  {
   "cell_type": "code",
   "execution_count": 52,
   "metadata": {},
   "outputs": [
    {
     "name": "stdout",
     "output_type": "stream",
     "text": [
      "[[42 42 42 42 42]\n",
      " [ 1  1 99  1  1]\n",
      " [ 1  1  1  1  1]]\n"
     ]
    }
   ],
   "source": [
    "print(ones)"
   ]
  },
  {
   "cell_type": "code",
   "execution_count": 54,
   "metadata": {},
   "outputs": [],
   "source": [
    "ones[2] = 88"
   ]
  },
  {
   "cell_type": "code",
   "execution_count": 55,
   "metadata": {},
   "outputs": [
    {
     "name": "stdout",
     "output_type": "stream",
     "text": [
      "[[42 42 42 42 42]\n",
      " [ 1  1 99  1  1]\n",
      " [88 88 88 88 88]]\n"
     ]
    }
   ],
   "source": [
    "print(ones)"
   ]
  },
  {
   "cell_type": "code",
   "execution_count": 56,
   "metadata": {
    "collapsed": true
   },
   "outputs": [],
   "source": [
    "ones[:,2] = 0"
   ]
  },
  {
   "cell_type": "code",
   "execution_count": 57,
   "metadata": {},
   "outputs": [
    {
     "name": "stdout",
     "output_type": "stream",
     "text": [
      "[[42 42  0 42 42]\n",
      " [ 1  1  0  1  1]\n",
      " [88 88  0 88 88]]\n"
     ]
    }
   ],
   "source": [
    "print(ones)"
   ]
  },
  {
   "cell_type": "code",
   "execution_count": 58,
   "metadata": {
    "collapsed": true
   },
   "outputs": [],
   "source": [
    "#this creates a copy of our taxi ndarray\n",
    "taxi_modified = taxi.copy()"
   ]
  },
  {
   "cell_type": "code",
   "execution_count": 59,
   "metadata": {},
   "outputs": [
    {
     "data": {
      "text/plain": [
       "array([[  2.01600000e+03,   1.00000000e+00,   1.00000000e+00, ...,\n",
       "          1.16500000e+01,   6.99900000e+01,   1.00000000e+00],\n",
       "       [  2.01600000e+03,   1.00000000e+00,   1.00000000e+00, ...,\n",
       "          8.00000000e+00,   5.43000000e+01,   1.00000000e+00],\n",
       "       [  2.01600000e+03,   1.00000000e+00,   1.00000000e+00, ...,\n",
       "          0.00000000e+00,   3.78000000e+01,   2.00000000e+00],\n",
       "       ..., \n",
       "       [  2.01600000e+03,   6.00000000e+00,   3.00000000e+01, ...,\n",
       "          5.00000000e+00,   6.33400000e+01,   1.00000000e+00],\n",
       "       [  2.01600000e+03,   6.00000000e+00,   3.00000000e+01, ...,\n",
       "          8.95000000e+00,   4.47500000e+01,   1.00000000e+00],\n",
       "       [  2.01600000e+03,   6.00000000e+00,   3.00000000e+01, ...,\n",
       "          0.00000000e+00,   5.48400000e+01,   2.00000000e+00]])"
      ]
     },
     "execution_count": 59,
     "metadata": {},
     "output_type": "execute_result"
    }
   ],
   "source": [
    "taxi_modified"
   ]
  },
  {
   "cell_type": "code",
   "execution_count": 60,
   "metadata": {
    "collapsed": true
   },
   "outputs": [],
   "source": [
    "taxi_modified[28214,5] = 1"
   ]
  },
  {
   "cell_type": "code",
   "execution_count": 61,
   "metadata": {},
   "outputs": [
    {
     "data": {
      "text/plain": [
       "array([[  2.01600000e+03,   1.00000000e+00,   1.00000000e+00, ...,\n",
       "          1.16500000e+01,   6.99900000e+01,   1.00000000e+00],\n",
       "       [  2.01600000e+03,   1.00000000e+00,   1.00000000e+00, ...,\n",
       "          8.00000000e+00,   5.43000000e+01,   1.00000000e+00],\n",
       "       [  2.01600000e+03,   1.00000000e+00,   1.00000000e+00, ...,\n",
       "          0.00000000e+00,   3.78000000e+01,   2.00000000e+00],\n",
       "       ..., \n",
       "       [  2.01600000e+03,   6.00000000e+00,   3.00000000e+01, ...,\n",
       "          5.00000000e+00,   6.33400000e+01,   1.00000000e+00],\n",
       "       [  2.01600000e+03,   6.00000000e+00,   3.00000000e+01, ...,\n",
       "          8.95000000e+00,   4.47500000e+01,   1.00000000e+00],\n",
       "       [  2.01600000e+03,   6.00000000e+00,   3.00000000e+01, ...,\n",
       "          0.00000000e+00,   5.48400000e+01,   2.00000000e+00]])"
      ]
     },
     "execution_count": 61,
     "metadata": {},
     "output_type": "execute_result"
    }
   ],
   "source": [
    "taxi_modified"
   ]
  },
  {
   "cell_type": "code",
   "execution_count": 62,
   "metadata": {
    "collapsed": true
   },
   "outputs": [],
   "source": [
    "taxi_modified[:, 0] = 16"
   ]
  },
  {
   "cell_type": "code",
   "execution_count": 63,
   "metadata": {},
   "outputs": [
    {
     "data": {
      "text/plain": [
       "array([[ 16.  ,   1.  ,   1.  , ...,  11.65,  69.99,   1.  ],\n",
       "       [ 16.  ,   1.  ,   1.  , ...,   8.  ,  54.3 ,   1.  ],\n",
       "       [ 16.  ,   1.  ,   1.  , ...,   0.  ,  37.8 ,   2.  ],\n",
       "       ..., \n",
       "       [ 16.  ,   6.  ,  30.  , ...,   5.  ,  63.34,   1.  ],\n",
       "       [ 16.  ,   6.  ,  30.  , ...,   8.95,  44.75,   1.  ],\n",
       "       [ 16.  ,   6.  ,  30.  , ...,   0.  ,  54.84,   2.  ]])"
      ]
     },
     "execution_count": 63,
     "metadata": {},
     "output_type": "execute_result"
    }
   ],
   "source": [
    "taxi_modified"
   ]
  },
  {
   "cell_type": "code",
   "execution_count": 64,
   "metadata": {
    "collapsed": true
   },
   "outputs": [],
   "source": [
    "taxi_modified[1800:1802, 7] = np.mean(taxi_modified[:,7])"
   ]
  },
  {
   "cell_type": "code",
   "execution_count": 65,
   "metadata": {},
   "outputs": [
    {
     "data": {
      "text/plain": [
       "array([[ 16.  ,   1.  ,   1.  , ...,  11.65,  69.99,   1.  ],\n",
       "       [ 16.  ,   1.  ,   1.  , ...,   8.  ,  54.3 ,   1.  ],\n",
       "       [ 16.  ,   1.  ,   1.  , ...,   0.  ,  37.8 ,   2.  ],\n",
       "       ..., \n",
       "       [ 16.  ,   6.  ,  30.  , ...,   5.  ,  63.34,   1.  ],\n",
       "       [ 16.  ,   6.  ,  30.  , ...,   8.95,  44.75,   1.  ],\n",
       "       [ 16.  ,   6.  ,  30.  , ...,   0.  ,  54.84,   2.  ]])"
      ]
     },
     "execution_count": 65,
     "metadata": {},
     "output_type": "execute_result"
    }
   ],
   "source": [
    "taxi_modified"
   ]
  },
  {
   "cell_type": "code",
   "execution_count": 66,
   "metadata": {
    "collapsed": true
   },
   "outputs": [],
   "source": [
    "#boolean arrays\n",
    "a2 = np.array([1, 2, 3, 4, 5])"
   ]
  },
  {
   "cell_type": "code",
   "execution_count": 67,
   "metadata": {
    "collapsed": true
   },
   "outputs": [],
   "source": [
    "a2_bool = a2 > 2"
   ]
  },
  {
   "cell_type": "code",
   "execution_count": 68,
   "metadata": {},
   "outputs": [
    {
     "data": {
      "text/plain": [
       "array([False, False,  True,  True,  True], dtype=bool)"
      ]
     },
     "execution_count": 68,
     "metadata": {},
     "output_type": "execute_result"
    }
   ],
   "source": [
    "a2_bool"
   ]
  },
  {
   "cell_type": "code",
   "execution_count": 69,
   "metadata": {
    "collapsed": true
   },
   "outputs": [],
   "source": [
    "a2[a2_bool] = 99"
   ]
  },
  {
   "cell_type": "code",
   "execution_count": 70,
   "metadata": {},
   "outputs": [
    {
     "name": "stdout",
     "output_type": "stream",
     "text": [
      "[ 1  2 99 99 99]\n"
     ]
    }
   ],
   "source": [
    "print(a2)"
   ]
  },
  {
   "cell_type": "code",
   "execution_count": 72,
   "metadata": {},
   "outputs": [],
   "source": [
    "#this creates a copy of out taxi ndarray\n",
    "taxi_copy = taxi.copy()"
   ]
  },
  {
   "cell_type": "code",
   "execution_count": 73,
   "metadata": {
    "collapsed": true
   },
   "outputs": [],
   "source": [
    "total_amount = taxi_copy[:,13]"
   ]
  },
  {
   "cell_type": "code",
   "execution_count": 74,
   "metadata": {},
   "outputs": [
    {
     "data": {
      "text/plain": [
       "array([ 69.99,  54.3 ,  37.8 , ...,  63.34,  44.75,  54.84])"
      ]
     },
     "execution_count": 74,
     "metadata": {},
     "output_type": "execute_result"
    }
   ],
   "source": [
    "total_amount"
   ]
  },
  {
   "cell_type": "code",
   "execution_count": 75,
   "metadata": {
    "collapsed": true
   },
   "outputs": [],
   "source": [
    "total_amount[total_amount < 0] = 0"
   ]
  },
  {
   "cell_type": "code",
   "execution_count": 76,
   "metadata": {},
   "outputs": [
    {
     "data": {
      "text/plain": [
       "array([ 69.99,  54.3 ,  37.8 , ...,  63.34,  44.75,  54.84])"
      ]
     },
     "execution_count": 76,
     "metadata": {},
     "output_type": "execute_result"
    }
   ],
   "source": [
    "total_amount"
   ]
  },
  {
   "cell_type": "markdown",
   "metadata": {},
   "source": [
    "#pseudocode for changing 1 column's value\n",
    "\n",
    "bool = array[:, column_for_comparison] == value_for_comparison\n",
    "array[bool, column_for_assignment] = new_value\n",
    "\n",
    "#pseudocode for all in one line\n",
    "array[array[:, column_for_comparison] == value_for_comparison, column_for_assignment] = new_value\n"
   ]
  },
  {
   "cell_type": "code",
   "execution_count": 77,
   "metadata": {
    "collapsed": true
   },
   "outputs": [],
   "source": [
    "#creates a new column filled with '0'\n",
    "zeros = np.zeros([taxi.shape[0], 1])\n",
    "taxi_modified = np.concatenate([taxi, zeros], axis=1)"
   ]
  },
  {
   "cell_type": "code",
   "execution_count": 78,
   "metadata": {},
   "outputs": [
    {
     "name": "stdout",
     "output_type": "stream",
     "text": [
      "[[  2.01600000e+03   1.00000000e+00   1.00000000e+00 ...,   6.99900000e+01\n",
      "    1.00000000e+00   0.00000000e+00]\n",
      " [  2.01600000e+03   1.00000000e+00   1.00000000e+00 ...,   5.43000000e+01\n",
      "    1.00000000e+00   0.00000000e+00]\n",
      " [  2.01600000e+03   1.00000000e+00   1.00000000e+00 ...,   3.78000000e+01\n",
      "    2.00000000e+00   0.00000000e+00]\n",
      " ..., \n",
      " [  2.01600000e+03   6.00000000e+00   3.00000000e+01 ...,   6.33400000e+01\n",
      "    1.00000000e+00   0.00000000e+00]\n",
      " [  2.01600000e+03   6.00000000e+00   3.00000000e+01 ...,   4.47500000e+01\n",
      "    1.00000000e+00   0.00000000e+00]\n",
      " [  2.01600000e+03   6.00000000e+00   3.00000000e+01 ...,   5.48400000e+01\n",
      "    2.00000000e+00   0.00000000e+00]]\n"
     ]
    }
   ],
   "source": [
    "print(taxi_modified)"
   ]
  },
  {
   "cell_type": "code",
   "execution_count": 79,
   "metadata": {
    "collapsed": true
   },
   "outputs": [],
   "source": [
    "#array[array[:, column_for_comparison] == value_for_comparison, column_for_assignment] = new_value\n",
    "taxi_modified[taxi_modified[:,5] == 2, 15] = 1"
   ]
  },
  {
   "cell_type": "code",
   "execution_count": 81,
   "metadata": {},
   "outputs": [
    {
     "name": "stdout",
     "output_type": "stream",
     "text": [
      "[[  2.01600000e+03   1.00000000e+00   1.00000000e+00 ...,   6.99900000e+01\n",
      "    1.00000000e+00   1.00000000e+00]\n",
      " [  2.01600000e+03   1.00000000e+00   1.00000000e+00 ...,   5.43000000e+01\n",
      "    1.00000000e+00   1.00000000e+00]\n",
      " [  2.01600000e+03   1.00000000e+00   1.00000000e+00 ...,   3.78000000e+01\n",
      "    2.00000000e+00   1.00000000e+00]\n",
      " ..., \n",
      " [  2.01600000e+03   6.00000000e+00   3.00000000e+01 ...,   6.33400000e+01\n",
      "    1.00000000e+00   1.00000000e+00]\n",
      " [  2.01600000e+03   6.00000000e+00   3.00000000e+01 ...,   4.47500000e+01\n",
      "    1.00000000e+00   1.00000000e+00]\n",
      " [  2.01600000e+03   6.00000000e+00   3.00000000e+01 ...,   5.48400000e+01\n",
      "    2.00000000e+00   1.00000000e+00]]\n"
     ]
    }
   ],
   "source": [
    "print(taxi_modified)"
   ]
  },
  {
   "cell_type": "code",
   "execution_count": 82,
   "metadata": {
    "collapsed": true
   },
   "outputs": [],
   "source": [
    "taxi_modified[taxi_modified[:,5] == 3, 15] = 1"
   ]
  },
  {
   "cell_type": "code",
   "execution_count": 83,
   "metadata": {},
   "outputs": [
    {
     "name": "stdout",
     "output_type": "stream",
     "text": [
      "[[  2.01600000e+03   1.00000000e+00   1.00000000e+00 ...,   6.99900000e+01\n",
      "    1.00000000e+00   1.00000000e+00]\n",
      " [  2.01600000e+03   1.00000000e+00   1.00000000e+00 ...,   5.43000000e+01\n",
      "    1.00000000e+00   1.00000000e+00]\n",
      " [  2.01600000e+03   1.00000000e+00   1.00000000e+00 ...,   3.78000000e+01\n",
      "    2.00000000e+00   1.00000000e+00]\n",
      " ..., \n",
      " [  2.01600000e+03   6.00000000e+00   3.00000000e+01 ...,   6.33400000e+01\n",
      "    1.00000000e+00   1.00000000e+00]\n",
      " [  2.01600000e+03   6.00000000e+00   3.00000000e+01 ...,   4.47500000e+01\n",
      "    1.00000000e+00   1.00000000e+00]\n",
      " [  2.01600000e+03   6.00000000e+00   3.00000000e+01 ...,   5.48400000e+01\n",
      "    2.00000000e+00   1.00000000e+00]]\n"
     ]
    }
   ],
   "source": [
    "print(taxi_modified)"
   ]
  },
  {
   "cell_type": "code",
   "execution_count": 84,
   "metadata": {
    "collapsed": true
   },
   "outputs": [],
   "source": [
    "taxi_modified[taxi_modified[:, 5] == 5, 15] = 1"
   ]
  },
  {
   "cell_type": "code",
   "execution_count": 85,
   "metadata": {},
   "outputs": [
    {
     "name": "stdout",
     "output_type": "stream",
     "text": [
      "[[  2.01600000e+03   1.00000000e+00   1.00000000e+00 ...,   6.99900000e+01\n",
      "    1.00000000e+00   1.00000000e+00]\n",
      " [  2.01600000e+03   1.00000000e+00   1.00000000e+00 ...,   5.43000000e+01\n",
      "    1.00000000e+00   1.00000000e+00]\n",
      " [  2.01600000e+03   1.00000000e+00   1.00000000e+00 ...,   3.78000000e+01\n",
      "    2.00000000e+00   1.00000000e+00]\n",
      " ..., \n",
      " [  2.01600000e+03   6.00000000e+00   3.00000000e+01 ...,   6.33400000e+01\n",
      "    1.00000000e+00   1.00000000e+00]\n",
      " [  2.01600000e+03   6.00000000e+00   3.00000000e+01 ...,   4.47500000e+01\n",
      "    1.00000000e+00   1.00000000e+00]\n",
      " [  2.01600000e+03   6.00000000e+00   3.00000000e+01 ...,   5.48400000e+01\n",
      "    2.00000000e+00   1.00000000e+00]]\n"
     ]
    }
   ],
   "source": [
    "print(taxi_modified)"
   ]
  },
  {
   "cell_type": "code",
   "execution_count": 86,
   "metadata": {
    "collapsed": true
   },
   "outputs": [],
   "source": [
    "#which airport is the most popular destination (JFK, LaGuardia, Newark)\n",
    "jfk = taxi[taxi[:,6] == 2]\n"
   ]
  },
  {
   "cell_type": "code",
   "execution_count": 87,
   "metadata": {},
   "outputs": [
    {
     "data": {
      "text/plain": [
       "array([[  2.01600000e+03,   1.00000000e+00,   1.00000000e+00, ...,\n",
       "          5.28000000e+01,   1.05600000e+02,   1.00000000e+00],\n",
       "       [  2.01600000e+03,   1.00000000e+00,   1.00000000e+00, ...,\n",
       "          0.00000000e+00,   3.73000000e+01,   2.00000000e+00],\n",
       "       [  2.01600000e+03,   1.00000000e+00,   1.00000000e+00, ...,\n",
       "          0.00000000e+00,   5.83400000e+01,   2.00000000e+00],\n",
       "       ..., \n",
       "       [  2.01600000e+03,   6.00000000e+00,   3.00000000e+01, ...,\n",
       "          0.00000000e+00,   3.80000000e+00,   2.00000000e+00],\n",
       "       [  2.01600000e+03,   6.00000000e+00,   3.00000000e+01, ...,\n",
       "          0.00000000e+00,   5.83400000e+01,   2.00000000e+00],\n",
       "       [  2.01600000e+03,   6.00000000e+00,   3.00000000e+01, ...,\n",
       "          5.66000000e+00,   6.40000000e+01,   1.00000000e+00]])"
      ]
     },
     "execution_count": 87,
     "metadata": {},
     "output_type": "execute_result"
    }
   ],
   "source": [
    "jfk"
   ]
  },
  {
   "cell_type": "code",
   "execution_count": 88,
   "metadata": {
    "collapsed": true
   },
   "outputs": [],
   "source": [
    "jfk = taxi[taxi[:, 6] == 2]"
   ]
  },
  {
   "cell_type": "code",
   "execution_count": 90,
   "metadata": {},
   "outputs": [
    {
     "data": {
      "text/plain": [
       "array([[  2.01600000e+03,   1.00000000e+00,   1.00000000e+00, ...,\n",
       "          5.28000000e+01,   1.05600000e+02,   1.00000000e+00],\n",
       "       [  2.01600000e+03,   1.00000000e+00,   1.00000000e+00, ...,\n",
       "          0.00000000e+00,   3.73000000e+01,   2.00000000e+00],\n",
       "       [  2.01600000e+03,   1.00000000e+00,   1.00000000e+00, ...,\n",
       "          0.00000000e+00,   5.83400000e+01,   2.00000000e+00],\n",
       "       ..., \n",
       "       [  2.01600000e+03,   6.00000000e+00,   3.00000000e+01, ...,\n",
       "          0.00000000e+00,   3.80000000e+00,   2.00000000e+00],\n",
       "       [  2.01600000e+03,   6.00000000e+00,   3.00000000e+01, ...,\n",
       "          0.00000000e+00,   5.83400000e+01,   2.00000000e+00],\n",
       "       [  2.01600000e+03,   6.00000000e+00,   3.00000000e+01, ...,\n",
       "          5.66000000e+00,   6.40000000e+01,   1.00000000e+00]])"
      ]
     },
     "execution_count": 90,
     "metadata": {},
     "output_type": "execute_result"
    }
   ],
   "source": [
    "jfk"
   ]
  },
  {
   "cell_type": "code",
   "execution_count": 91,
   "metadata": {
    "collapsed": true
   },
   "outputs": [],
   "source": [
    "jfk_count = jfk.shape[0]"
   ]
  },
  {
   "cell_type": "code",
   "execution_count": 92,
   "metadata": {},
   "outputs": [
    {
     "data": {
      "text/plain": [
       "11832"
      ]
     },
     "execution_count": 92,
     "metadata": {},
     "output_type": "execute_result"
    }
   ],
   "source": [
    "jfk_count"
   ]
  },
  {
   "cell_type": "code",
   "execution_count": 93,
   "metadata": {
    "collapsed": true
   },
   "outputs": [],
   "source": [
    "lagurdia = taxi[taxi[:, 6] == 3]"
   ]
  },
  {
   "cell_type": "code",
   "execution_count": 94,
   "metadata": {},
   "outputs": [
    {
     "data": {
      "text/plain": [
       "array([[  2.01600000e+03,   1.00000000e+00,   1.00000000e+00, ...,\n",
       "          0.00000000e+00,   1.83000000e+01,   2.00000000e+00],\n",
       "       [  2.01600000e+03,   1.00000000e+00,   1.00000000e+00, ...,\n",
       "          6.07000000e+00,   3.64100000e+01,   1.00000000e+00],\n",
       "       [  2.01600000e+03,   1.00000000e+00,   1.00000000e+00, ...,\n",
       "          1.00800000e+01,   5.04200000e+01,   1.00000000e+00],\n",
       "       ..., \n",
       "       [  2.01600000e+03,   6.00000000e+00,   3.00000000e+01, ...,\n",
       "          0.00000000e+00,   3.73000000e+01,   2.00000000e+00],\n",
       "       [  2.01600000e+03,   6.00000000e+00,   3.00000000e+01, ...,\n",
       "          3.70000000e+00,   3.50000000e+01,   1.00000000e+00],\n",
       "       [  2.01600000e+03,   6.00000000e+00,   3.00000000e+01, ...,\n",
       "          7.00000000e+00,   5.83400000e+01,   1.00000000e+00]])"
      ]
     },
     "execution_count": 94,
     "metadata": {},
     "output_type": "execute_result"
    }
   ],
   "source": [
    "lagurdia"
   ]
  },
  {
   "cell_type": "code",
   "execution_count": 99,
   "metadata": {},
   "outputs": [],
   "source": [
    "lagurdia_count = lagurdia.shape[0]"
   ]
  },
  {
   "cell_type": "code",
   "execution_count": 100,
   "metadata": {},
   "outputs": [
    {
     "data": {
      "text/plain": [
       "16602"
      ]
     },
     "execution_count": 100,
     "metadata": {},
     "output_type": "execute_result"
    }
   ],
   "source": [
    "lagurdia_count"
   ]
  },
  {
   "cell_type": "code",
   "execution_count": 101,
   "metadata": {
    "collapsed": true
   },
   "outputs": [],
   "source": [
    "newark = taxi[taxi[:, 6] == 5]"
   ]
  },
  {
   "cell_type": "code",
   "execution_count": 102,
   "metadata": {},
   "outputs": [
    {
     "data": {
      "text/plain": [
       "array([[  2.01600000e+03,   1.00000000e+00,   1.00000000e+00,\n",
       "          5.00000000e+00,   0.00000000e+00,   2.00000000e+00,\n",
       "          5.00000000e+00,   3.63000000e+01,   2.56200000e+03,\n",
       "          1.09500000e+02,   8.00000000e-01,   1.10800000e+01,\n",
       "          1.00000000e+01,   1.31380000e+02,   1.00000000e+00],\n",
       "       [  2.01600000e+03,   1.00000000e+00,   2.00000000e+00,\n",
       "          6.00000000e+00,   3.00000000e+00,   2.00000000e+00,\n",
       "          5.00000000e+00,   3.44000000e+01,   6.11400000e+03,\n",
       "          1.22000000e+02,   3.00000000e-01,   1.25000000e+01,\n",
       "          1.70000000e-01,   1.34970000e+02,   1.00000000e+00],\n",
       "       [  2.01600000e+03,   1.00000000e+00,   4.00000000e+00,\n",
       "          1.00000000e+00,   4.00000000e+00,   2.00000000e+00,\n",
       "          5.00000000e+00,   3.73000000e+01,   4.76000000e+03,\n",
       "          1.17000000e+02,   1.30000000e+00,   2.35800000e+01,\n",
       "          0.00000000e+00,   1.41880000e+02,   2.00000000e+00],\n",
       "       [  2.01600000e+03,   1.00000000e+00,   5.00000000e+00,\n",
       "          2.00000000e+00,   4.00000000e+00,   2.00000000e+00,\n",
       "          5.00000000e+00,   3.65000000e+01,   5.50500000e+03,\n",
       "          0.00000000e+00,   3.00000000e-01,   0.00000000e+00,\n",
       "          0.00000000e+00,   3.00000000e-01,   2.00000000e+00],\n",
       "       [  2.01600000e+03,   1.00000000e+00,   9.00000000e+00,\n",
       "          6.00000000e+00,   1.00000000e+00,   2.00000000e+00,\n",
       "          5.00000000e+00,   3.63000000e+01,   2.96900000e+03,\n",
       "          1.12000000e+02,   3.00000000e-01,   2.15800000e+01,\n",
       "          0.00000000e+00,   1.33880000e+02,   2.00000000e+00],\n",
       "       [  2.01600000e+03,   1.00000000e+00,   1.00000000e+01,\n",
       "          7.00000000e+00,   4.00000000e+00,   2.00000000e+00,\n",
       "          5.00000000e+00,   3.72000000e+01,   3.65800000e+03,\n",
       "          1.14500000e+02,   3.00000000e-01,   2.72500000e+01,\n",
       "          4.26200000e+01,   1.84670000e+02,   1.00000000e+00],\n",
       "       [  2.01600000e+03,   1.00000000e+00,   1.10000000e+01,\n",
       "          1.00000000e+00,   2.00000000e+00,   3.00000000e+00,\n",
       "          5.00000000e+00,   3.26500000e+01,   2.29700000e+03,\n",
       "          1.02000000e+02,   3.00000000e-01,   2.70000000e+01,\n",
       "          0.00000000e+00,   1.29300000e+02,   2.00000000e+00],\n",
       "       [  2.01600000e+03,   1.00000000e+00,   1.70000000e+01,\n",
       "          7.00000000e+00,   4.00000000e+00,   3.00000000e+00,\n",
       "          5.00000000e+00,   3.30000000e+01,   3.89700000e+03,\n",
       "          1.05500000e+02,   3.00000000e-01,   1.80400000e+01,\n",
       "          0.00000000e+00,   1.23840000e+02,   2.00000000e+00],\n",
       "       [  2.01600000e+03,   1.00000000e+00,   2.20000000e+01,\n",
       "          5.00000000e+00,   2.00000000e+00,   3.00000000e+00,\n",
       "          5.00000000e+00,   3.46000000e+01,   3.58100000e+03,\n",
       "          1.10500000e+02,   3.00000000e-01,   2.15400000e+01,\n",
       "          1.00000000e+01,   1.42340000e+02,   1.00000000e+00],\n",
       "       [  2.01600000e+03,   1.00000000e+00,   2.20000000e+01,\n",
       "          5.00000000e+00,   5.00000000e+00,   3.00000000e+00,\n",
       "          5.00000000e+00,   2.64000000e+01,   2.54200000e+03,\n",
       "          8.85000000e+01,   8.00000000e-01,   5.54000000e+00,\n",
       "          2.37100000e+01,   1.18550000e+02,   1.00000000e+00],\n",
       "       [  2.01600000e+03,   1.00000000e+00,   3.10000000e+01,\n",
       "          7.00000000e+00,   4.00000000e+00,   2.00000000e+00,\n",
       "          5.00000000e+00,   4.54100000e+01,   3.77000000e+03,\n",
       "          1.34500000e+02,   3.00000000e-01,   2.00000000e+01,\n",
       "          1.55000000e+01,   1.70300000e+02,   1.00000000e+00],\n",
       "       [  2.01600000e+03,   2.00000000e+00,   4.00000000e+00,\n",
       "          4.00000000e+00,   3.00000000e+00,   2.00000000e+00,\n",
       "          5.00000000e+00,   4.35000000e+01,   3.76900000e+03,\n",
       "          1.13000000e+02,   8.00000000e-01,   2.30400000e+01,\n",
       "          3.42000000e+01,   1.71040000e+02,   1.00000000e+00],\n",
       "       [  2.01600000e+03,   2.00000000e+00,   6.00000000e+00,\n",
       "          6.00000000e+00,   0.00000000e+00,   2.00000000e+00,\n",
       "          5.00000000e+00,   3.15500000e+01,   3.14400000e+03,\n",
       "          1.02500000e+02,   8.00000000e-01,   1.05000000e+01,\n",
       "          2.27600000e+01,   1.36560000e+02,   1.00000000e+00],\n",
       "       [  2.01600000e+03,   2.00000000e+00,   7.00000000e+00,\n",
       "          7.00000000e+00,   3.00000000e+00,   2.00000000e+00,\n",
       "          5.00000000e+00,   3.59000000e+01,   4.10700000e+03,\n",
       "          1.16000000e+02,   3.00000000e-01,   3.05400000e+01,\n",
       "          0.00000000e+00,   1.46840000e+02,   1.00000000e+00],\n",
       "       [  2.01600000e+03,   2.00000000e+00,   8.00000000e+00,\n",
       "          1.00000000e+00,   2.00000000e+00,   2.00000000e+00,\n",
       "          5.00000000e+00,   3.61000000e+01,   2.94800000e+03,\n",
       "          1.10500000e+02,   3.00000000e-01,   2.65800000e+01,\n",
       "          2.74500000e+01,   1.64830000e+02,   1.00000000e+00],\n",
       "       [  2.01600000e+03,   2.00000000e+00,   1.50000000e+01,\n",
       "          1.00000000e+00,   3.00000000e+00,   3.00000000e+00,\n",
       "          5.00000000e+00,   3.42000000e+01,   3.56200000e+03,\n",
       "          1.06500000e+02,   3.00000000e-01,   1.80400000e+01,\n",
       "          3.12000000e+01,   1.56040000e+02,   1.00000000e+00],\n",
       "       [  2.01600000e+03,   2.00000000e+00,   1.60000000e+01,\n",
       "          2.00000000e+00,   2.00000000e+00,   3.00000000e+00,\n",
       "          5.00000000e+00,   3.35000000e+01,   3.03400000e+03,\n",
       "          1.05500000e+02,   3.00000000e-01,   1.60400000e+01,\n",
       "          2.00000000e+01,   1.41840000e+02,   1.00000000e+00],\n",
       "       [  2.01600000e+03,   2.00000000e+00,   1.60000000e+01,\n",
       "          2.00000000e+00,   3.00000000e+00,   2.00000000e+00,\n",
       "          5.00000000e+00,   3.70000000e+01,   3.38300000e+03,\n",
       "          1.13000000e+02,   3.00000000e-01,   2.65800000e+01,\n",
       "          2.79500000e+01,   1.67830000e+02,   1.00000000e+00],\n",
       "       [  2.01600000e+03,   2.00000000e+00,   2.40000000e+01,\n",
       "          3.00000000e+00,   5.00000000e+00,   3.00000000e+00,\n",
       "          5.00000000e+00,   2.38100000e+01,   2.67700000e+03,\n",
       "          8.15000000e+01,   8.00000000e-01,   1.25000000e+01,\n",
       "          0.00000000e+00,   9.48000000e+01,   1.00000000e+00],\n",
       "       [  2.01600000e+03,   2.00000000e+00,   2.50000000e+01,\n",
       "          4.00000000e+00,   3.00000000e+00,   3.00000000e+00,\n",
       "          5.00000000e+00,   2.39300000e+01,   5.11700000e+03,\n",
       "          1.20000000e+02,   8.00000000e-01,   0.00000000e+00,\n",
       "          1.50000000e+01,   1.35800000e+02,   1.00000000e+00],\n",
       "       [  2.01600000e+03,   2.00000000e+00,   2.70000000e+01,\n",
       "          6.00000000e+00,   4.00000000e+00,   3.00000000e+00,\n",
       "          5.00000000e+00,   3.21600000e+01,   2.44600000e+03,\n",
       "          1.00500000e+02,   3.00000000e-01,   1.80400000e+01,\n",
       "          0.00000000e+00,   1.18840000e+02,   2.00000000e+00],\n",
       "       [  2.01600000e+03,   3.00000000e+00,   1.00000000e+00,\n",
       "          2.00000000e+00,   3.00000000e+00,   3.00000000e+00,\n",
       "          5.00000000e+00,   3.11000000e+01,   3.04000000e+03,\n",
       "          1.23000000e+02,   3.00000000e-01,   2.15400000e+01,\n",
       "          1.00000000e+01,   1.54840000e+02,   1.00000000e+00],\n",
       "       [  2.01600000e+03,   3.00000000e+00,   5.00000000e+00,\n",
       "          6.00000000e+00,   3.00000000e+00,   3.00000000e+00,\n",
       "          5.00000000e+00,   2.57000000e+01,   3.36900000e+03,\n",
       "          9.10000000e+01,   3.00000000e-01,   1.80400000e+01,\n",
       "          0.00000000e+00,   1.09340000e+02,   2.00000000e+00],\n",
       "       [  2.01600000e+03,   3.00000000e+00,   6.00000000e+00,\n",
       "          7.00000000e+00,   2.00000000e+00,   2.00000000e+00,\n",
       "          5.00000000e+00,   3.60900000e+01,   2.49900000e+03,\n",
       "          1.10500000e+02,   3.00000000e-01,   1.61300000e+01,\n",
       "          0.00000000e+00,   1.26930000e+02,   2.00000000e+00],\n",
       "       [  2.01600000e+03,   3.00000000e+00,   1.10000000e+01,\n",
       "          5.00000000e+00,   3.00000000e+00,   3.00000000e+00,\n",
       "          5.00000000e+00,   2.81600000e+01,   4.00700000e+03,\n",
       "          1.00000000e+02,   3.00000000e-01,   1.96400000e+01,\n",
       "          1.00000000e+01,   1.29940000e+02,   1.00000000e+00],\n",
       "       [  2.01600000e+03,   3.00000000e+00,   1.10000000e+01,\n",
       "          5.00000000e+00,   3.00000000e+00,   2.00000000e+00,\n",
       "          5.00000000e+00,   3.59000000e+01,   5.09200000e+03,\n",
       "          1.16500000e+02,   3.00000000e-01,   2.15800000e+01,\n",
       "          2.10000000e+01,   1.59380000e+02,   1.00000000e+00],\n",
       "       [  2.01600000e+03,   3.00000000e+00,   1.50000000e+01,\n",
       "          2.00000000e+00,   0.00000000e+00,   2.00000000e+00,\n",
       "          5.00000000e+00,   4.00000000e+01,   4.09800000e+03,\n",
       "          1.25000000e+02,   8.00000000e-01,   0.00000000e+00,\n",
       "          4.50000000e+01,   1.70800000e+02,   1.00000000e+00],\n",
       "       [  2.01600000e+03,   3.00000000e+00,   1.70000000e+01,\n",
       "          4.00000000e+00,   2.00000000e+00,   3.00000000e+00,\n",
       "          5.00000000e+00,   3.19000000e+01,   3.26000000e+03,\n",
       "          1.03000000e+02,   3.00000000e-01,   2.05400000e+01,\n",
       "          2.47500000e+01,   1.48590000e+02,   1.00000000e+00],\n",
       "       [  2.01600000e+03,   3.00000000e+00,   1.70000000e+01,\n",
       "          4.00000000e+00,   3.00000000e+00,   3.00000000e+00,\n",
       "          5.00000000e+00,   3.60000000e+01,   4.77200000e+03,\n",
       "          1.20500000e+02,   1.30000000e+00,   2.26400000e+01,\n",
       "          5.00000000e+00,   1.49440000e+02,   1.00000000e+00],\n",
       "       [  2.01600000e+03,   3.00000000e+00,   1.90000000e+01,\n",
       "          6.00000000e+00,   4.00000000e+00,   3.00000000e+00,\n",
       "          5.00000000e+00,   3.29000000e+01,   2.79900000e+03,\n",
       "          1.04000000e+02,   3.00000000e-01,   2.35800000e+01,\n",
       "          0.00000000e+00,   1.27880000e+02,   2.00000000e+00],\n",
       "       [  2.01600000e+03,   3.00000000e+00,   2.10000000e+01,\n",
       "          1.00000000e+00,   1.00000000e+00,   3.00000000e+00,\n",
       "          5.00000000e+00,   3.23600000e+01,   8.62390000e+04,\n",
       "          1.01000000e+02,   8.00000000e-01,   2.35800000e+01,\n",
       "          6.27000000e+00,   1.31650000e+02,   1.00000000e+00],\n",
       "       [  2.01600000e+03,   3.00000000e+00,   2.40000000e+01,\n",
       "          4.00000000e+00,   2.00000000e+00,   3.00000000e+00,\n",
       "          5.00000000e+00,   3.16500000e+01,   3.04500000e+03,\n",
       "          1.01000000e+02,   3.00000000e-01,   1.80400000e+01,\n",
       "          0.00000000e+00,   1.19340000e+02,   2.00000000e+00],\n",
       "       [  2.01600000e+03,   4.00000000e+00,   3.00000000e+00,\n",
       "          7.00000000e+00,   4.00000000e+00,   3.00000000e+00,\n",
       "          5.00000000e+00,   3.13000000e+01,   2.50000000e+03,\n",
       "          9.90000000e+01,   3.00000000e-01,   1.80400000e+01,\n",
       "          2.34500000e+01,   1.40790000e+02,   1.00000000e+00],\n",
       "       [  2.01600000e+03,   4.00000000e+00,   5.00000000e+00,\n",
       "          2.00000000e+00,   3.00000000e+00,   3.00000000e+00,\n",
       "          5.00000000e+00,   2.61100000e+01,   2.90500000e+03,\n",
       "          8.90000000e+01,   3.00000000e-01,   1.60400000e+01,\n",
       "          4.00000000e+01,   1.45340000e+02,   1.00000000e+00],\n",
       "       [  2.01600000e+03,   4.00000000e+00,   7.00000000e+00,\n",
       "          4.00000000e+00,   5.00000000e+00,   2.00000000e+00,\n",
       "          5.00000000e+00,   3.78000000e+01,   3.28400000e+03,\n",
       "          1.15500000e+02,   8.00000000e-01,   1.10800000e+01,\n",
       "          2.00000000e+01,   1.47380000e+02,   1.00000000e+00],\n",
       "       [  2.01600000e+03,   4.00000000e+00,   9.00000000e+00,\n",
       "          6.00000000e+00,   4.00000000e+00,   2.00000000e+00,\n",
       "          5.00000000e+00,   3.74000000e+01,   6.63900000e+03,\n",
       "          1.29500000e+02,   3.00000000e-01,   1.25000000e+01,\n",
       "          0.00000000e+00,   1.42300000e+02,   2.00000000e+00],\n",
       "       [  2.01600000e+03,   4.00000000e+00,   1.00000000e+01,\n",
       "          7.00000000e+00,   3.00000000e+00,   2.00000000e+00,\n",
       "          5.00000000e+00,   3.64000000e+01,   3.29700000e+03,\n",
       "          1.12000000e+02,   3.00000000e-01,   3.60800000e+01,\n",
       "          3.70500000e+01,   1.85430000e+02,   1.00000000e+00],\n",
       "       [  2.01600000e+03,   4.00000000e+00,   1.60000000e+01,\n",
       "          6.00000000e+00,   4.00000000e+00,   2.00000000e+00,\n",
       "          5.00000000e+00,   3.73000000e+01,   3.44800000e+03,\n",
       "          1.14500000e+02,   3.00000000e-01,   1.10800000e+01,\n",
       "          1.50000000e+01,   1.40880000e+02,   1.00000000e+00],\n",
       "       [  2.01600000e+03,   4.00000000e+00,   1.90000000e+01,\n",
       "          2.00000000e+00,   5.00000000e+00,   2.00000000e+00,\n",
       "          5.00000000e+00,   3.81800000e+01,   3.84300000e+03,\n",
       "          1.19000000e+02,   8.00000000e-01,   1.10800000e+01,\n",
       "          1.50000000e+01,   1.45880000e+02,   1.00000000e+00],\n",
       "       [  2.01600000e+03,   4.00000000e+00,   2.20000000e+01,\n",
       "          5.00000000e+00,   4.00000000e+00,   2.00000000e+00,\n",
       "          5.00000000e+00,   3.57100000e+01,   8.79500000e+03,\n",
       "          1.26000000e+02,   1.30000000e+00,   2.50000000e+01,\n",
       "          3.80800000e+01,   1.90380000e+02,   1.00000000e+00],\n",
       "       [  2.01600000e+03,   4.00000000e+00,   2.40000000e+01,\n",
       "          7.00000000e+00,   1.00000000e+00,   3.00000000e+00,\n",
       "          5.00000000e+00,   2.73000000e+01,   2.15500000e+03,\n",
       "          9.00000000e+01,   3.00000000e-01,   2.30400000e+01,\n",
       "          1.00000000e+01,   1.23340000e+02,   1.00000000e+00],\n",
       "       [  2.01600000e+03,   4.00000000e+00,   2.90000000e+01,\n",
       "          5.00000000e+00,   4.00000000e+00,   3.00000000e+00,\n",
       "          5.00000000e+00,   3.49700000e+01,   4.81400000e+03,\n",
       "          1.23000000e+02,   8.00000000e-01,   1.80400000e+01,\n",
       "          2.83700000e+01,   1.70210000e+02,   1.00000000e+00],\n",
       "       [  2.01600000e+03,   5.00000000e+00,   3.00000000e+00,\n",
       "          2.00000000e+00,   5.00000000e+00,   2.00000000e+00,\n",
       "          5.00000000e+00,   3.61000000e+01,   2.77100000e+03,\n",
       "          1.11000000e+02,   8.00000000e-01,   3.10800000e+01,\n",
       "          3.57000000e+01,   1.78580000e+02,   1.00000000e+00],\n",
       "       [  2.01600000e+03,   5.00000000e+00,   4.00000000e+00,\n",
       "          3.00000000e+00,   4.00000000e+00,   3.00000000e+00,\n",
       "          5.00000000e+00,   3.31000000e+01,   4.76500000e+03,\n",
       "          1.10000000e+02,   1.30000000e+00,   1.80400000e+01,\n",
       "          2.58500000e+01,   1.55190000e+02,   1.00000000e+00],\n",
       "       [  2.01600000e+03,   5.00000000e+00,   1.00000000e+01,\n",
       "          2.00000000e+00,   5.00000000e+00,   3.00000000e+00,\n",
       "          5.00000000e+00,   3.58000000e+01,   2.47800000e+03,\n",
       "          1.10000000e+02,   8.00000000e-01,   2.40400000e+01,\n",
       "          1.50000000e+01,   1.49840000e+02,   1.00000000e+00],\n",
       "       [  2.01600000e+03,   5.00000000e+00,   1.30000000e+01,\n",
       "          5.00000000e+00,   4.00000000e+00,   2.00000000e+00,\n",
       "          5.00000000e+00,   3.64400000e+01,   8.65200000e+03,\n",
       "          1.26000000e+02,   1.30000000e+00,   2.60800000e+01,\n",
       "          2.00000000e+01,   1.73380000e+02,   1.00000000e+00],\n",
       "       [  2.01600000e+03,   5.00000000e+00,   1.40000000e+01,\n",
       "          6.00000000e+00,   1.00000000e+00,   3.00000000e+00,\n",
       "          5.00000000e+00,   2.83000000e+01,   2.76200000e+03,\n",
       "          9.40000000e+01,   3.00000000e-01,   2.65400000e+01,\n",
       "          1.00000000e+01,   1.30840000e+02,   1.00000000e+00],\n",
       "       [  2.01600000e+03,   5.00000000e+00,   1.70000000e+01,\n",
       "          2.00000000e+00,   4.00000000e+00,   3.00000000e+00,\n",
       "          5.00000000e+00,   2.53000000e+01,   2.65200000e+03,\n",
       "          8.70000000e+01,   1.30000000e+00,   1.60400000e+01,\n",
       "          1.50000000e+01,   1.19340000e+02,   1.00000000e+00],\n",
       "       [  2.01600000e+03,   5.00000000e+00,   1.80000000e+01,\n",
       "          3.00000000e+00,   4.00000000e+00,   3.00000000e+00,\n",
       "          5.00000000e+00,   2.62000000e+01,   5.81800000e+03,\n",
       "          1.01500000e+02,   1.30000000e+00,   2.25400000e+01,\n",
       "          5.00000000e+00,   1.30340000e+02,   1.00000000e+00],\n",
       "       [  2.01600000e+03,   5.00000000e+00,   1.80000000e+01,\n",
       "          3.00000000e+00,   5.00000000e+00,   3.00000000e+00,\n",
       "          5.00000000e+00,   2.52000000e+01,   3.71700000e+03,\n",
       "          9.20000000e+01,   8.00000000e-01,   1.05000000e+01,\n",
       "          0.00000000e+00,   1.03300000e+02,   2.00000000e+00],\n",
       "       [  2.01600000e+03,   5.00000000e+00,   2.10000000e+01,\n",
       "          6.00000000e+00,   4.00000000e+00,   2.00000000e+00,\n",
       "          5.00000000e+00,   3.51000000e+01,   3.38300000e+03,\n",
       "          1.08000000e+02,   3.00000000e-01,   2.65800000e+01,\n",
       "          2.69500000e+01,   1.61830000e+02,   1.00000000e+00],\n",
       "       [  2.01600000e+03,   5.00000000e+00,   2.80000000e+01,\n",
       "          6.00000000e+00,   2.00000000e+00,   3.00000000e+00,\n",
       "          5.00000000e+00,   3.19400000e+01,   2.43100000e+03,\n",
       "          1.01000000e+02,   3.00000000e-01,   1.80400000e+01,\n",
       "          2.98400000e+01,   1.49180000e+02,   1.00000000e+00],\n",
       "       [  2.01600000e+03,   5.00000000e+00,   3.10000000e+01,\n",
       "          2.00000000e+00,   4.00000000e+00,   2.00000000e+00,\n",
       "          5.00000000e+00,   3.64000000e+01,   3.96400000e+03,\n",
       "          1.13000000e+02,   1.30000000e+00,   2.35800000e+01,\n",
       "          5.00000000e+00,   1.42880000e+02,   1.00000000e+00],\n",
       "       [  2.01600000e+03,   6.00000000e+00,   7.00000000e+00,\n",
       "          2.00000000e+00,   3.00000000e+00,   2.00000000e+00,\n",
       "          5.00000000e+00,   3.79400000e+01,   6.71600000e+03,\n",
       "          1.29000000e+02,   3.00000000e-01,   1.25000000e+01,\n",
       "          3.54500000e+01,   1.77250000e+02,   1.00000000e+00],\n",
       "       [  2.01600000e+03,   6.00000000e+00,   8.00000000e+00,\n",
       "          3.00000000e+00,   5.00000000e+00,   2.00000000e+00,\n",
       "          5.00000000e+00,   3.37000000e+01,   3.49900000e+03,\n",
       "          1.07500000e+02,   8.00000000e-01,   1.05000000e+01,\n",
       "          2.00000000e+01,   1.38800000e+02,   1.00000000e+00],\n",
       "       [  2.01600000e+03,   6.00000000e+00,   1.10000000e+01,\n",
       "          6.00000000e+00,   5.00000000e+00,   2.00000000e+00,\n",
       "          5.00000000e+00,   3.67300000e+01,   3.48100000e+03,\n",
       "          1.12000000e+02,   8.00000000e-01,   2.35800000e+01,\n",
       "          0.00000000e+00,   1.36380000e+02,   1.00000000e+00],\n",
       "       [  2.01600000e+03,   6.00000000e+00,   1.60000000e+01,\n",
       "          4.00000000e+00,   5.00000000e+00,   2.00000000e+00,\n",
       "          5.00000000e+00,   3.54300000e+01,   3.57000000e+03,\n",
       "          1.14500000e+02,   8.00000000e-01,   1.10800000e+01,\n",
       "          0.00000000e+00,   1.26380000e+02,   2.00000000e+00],\n",
       "       [  2.01600000e+03,   6.00000000e+00,   1.70000000e+01,\n",
       "          5.00000000e+00,   1.00000000e+00,   3.00000000e+00,\n",
       "          5.00000000e+00,   2.80000000e+01,   3.26400000e+03,\n",
       "          9.50000000e+01,   3.00000000e-01,   1.80400000e+01,\n",
       "          2.26500000e+01,   1.35990000e+02,   1.00000000e+00],\n",
       "       [  2.01600000e+03,   6.00000000e+00,   2.10000000e+01,\n",
       "          2.00000000e+00,   2.00000000e+00,   2.00000000e+00,\n",
       "          5.00000000e+00,   3.69800000e+01,   4.11500000e+03,\n",
       "          1.16000000e+02,   3.00000000e-01,   2.40000000e+01,\n",
       "          2.80600000e+01,   1.68360000e+02,   1.00000000e+00],\n",
       "       [  2.01600000e+03,   6.00000000e+00,   2.20000000e+01,\n",
       "          3.00000000e+00,   3.00000000e+00,   2.00000000e+00,\n",
       "          5.00000000e+00,   3.62000000e+01,   5.73400000e+03,\n",
       "          1.17500000e+02,   3.00000000e-01,   2.35800000e+01,\n",
       "          1.00000000e+01,   1.51380000e+02,   1.00000000e+00],\n",
       "       [  2.01600000e+03,   6.00000000e+00,   2.20000000e+01,\n",
       "          3.00000000e+00,   3.00000000e+00,   2.00000000e+00,\n",
       "          5.00000000e+00,   3.57000000e+01,   6.05600000e+03,\n",
       "          1.16500000e+02,   3.00000000e-01,   2.35800000e+01,\n",
       "          2.80500000e+01,   1.68430000e+02,   1.00000000e+00],\n",
       "       [  2.01600000e+03,   6.00000000e+00,   2.30000000e+01,\n",
       "          4.00000000e+00,   0.00000000e+00,   2.00000000e+00,\n",
       "          5.00000000e+00,   3.75000000e+01,   2.67000000e+03,\n",
       "          1.13500000e+02,   8.00000000e-01,   2.35800000e+01,\n",
       "          0.00000000e+00,   1.37880000e+02,   2.00000000e+00],\n",
       "       [  2.01600000e+03,   6.00000000e+00,   2.80000000e+01,\n",
       "          2.00000000e+00,   5.00000000e+00,   3.00000000e+00,\n",
       "          5.00000000e+00,   2.45000000e+01,   3.27100000e+03,\n",
       "          8.60000000e+01,   8.00000000e-01,   1.35000000e+01,\n",
       "          2.00500000e+01,   1.20350000e+02,   1.00000000e+00]])"
      ]
     },
     "execution_count": 102,
     "metadata": {},
     "output_type": "execute_result"
    }
   ],
   "source": [
    "newark"
   ]
  },
  {
   "cell_type": "code",
   "execution_count": 103,
   "metadata": {
    "collapsed": true
   },
   "outputs": [],
   "source": [
    "newark_count = newark.shape[0]"
   ]
  },
  {
   "cell_type": "code",
   "execution_count": 104,
   "metadata": {},
   "outputs": [
    {
     "data": {
      "text/plain": [
       "63"
      ]
     },
     "execution_count": 104,
     "metadata": {},
     "output_type": "execute_result"
    }
   ],
   "source": [
    "newark_count"
   ]
  },
  {
   "cell_type": "markdown",
   "metadata": {},
   "source": [
    "#cleaning and removing bad data\n",
    "trip_distance @ column index 7\n",
    "trip_length @ column index 8\n",
    "total_amount @ column index 13"
   ]
  },
  {
   "cell_type": "code",
   "execution_count": 105,
   "metadata": {
    "collapsed": true
   },
   "outputs": [],
   "source": [
    "trip_mph = taxi[:,7] / (taxi[:,8] / 3600)"
   ]
  },
  {
   "cell_type": "code",
   "execution_count": 106,
   "metadata": {
    "collapsed": true
   },
   "outputs": [],
   "source": [
    "cleaned_taxi = taxi[trip_mph < 100]"
   ]
  },
  {
   "cell_type": "code",
   "execution_count": 107,
   "metadata": {},
   "outputs": [
    {
     "data": {
      "text/plain": [
       "array([[  2.01600000e+03,   1.00000000e+00,   1.00000000e+00, ...,\n",
       "          1.16500000e+01,   6.99900000e+01,   1.00000000e+00],\n",
       "       [  2.01600000e+03,   1.00000000e+00,   1.00000000e+00, ...,\n",
       "          8.00000000e+00,   5.43000000e+01,   1.00000000e+00],\n",
       "       [  2.01600000e+03,   1.00000000e+00,   1.00000000e+00, ...,\n",
       "          0.00000000e+00,   3.78000000e+01,   2.00000000e+00],\n",
       "       ..., \n",
       "       [  2.01600000e+03,   6.00000000e+00,   3.00000000e+01, ...,\n",
       "          5.00000000e+00,   6.33400000e+01,   1.00000000e+00],\n",
       "       [  2.01600000e+03,   6.00000000e+00,   3.00000000e+01, ...,\n",
       "          8.95000000e+00,   4.47500000e+01,   1.00000000e+00],\n",
       "       [  2.01600000e+03,   6.00000000e+00,   3.00000000e+01, ...,\n",
       "          0.00000000e+00,   5.48400000e+01,   2.00000000e+00]])"
      ]
     },
     "execution_count": 107,
     "metadata": {},
     "output_type": "execute_result"
    }
   ],
   "source": [
    "cleaned_taxi"
   ]
  },
  {
   "cell_type": "code",
   "execution_count": 110,
   "metadata": {},
   "outputs": [],
   "source": [
    "mean_distance = cleaned_taxi[:,7].mean()"
   ]
  },
  {
   "cell_type": "code",
   "execution_count": 111,
   "metadata": {},
   "outputs": [
    {
     "data": {
      "text/plain": [
       "12.666396599932893"
      ]
     },
     "execution_count": 111,
     "metadata": {},
     "output_type": "execute_result"
    }
   ],
   "source": [
    "mean_distance"
   ]
  },
  {
   "cell_type": "code",
   "execution_count": 114,
   "metadata": {
    "collapsed": true
   },
   "outputs": [],
   "source": [
    "mean_length = cleaned_taxi[:, 8].mean()"
   ]
  },
  {
   "cell_type": "code",
   "execution_count": 115,
   "metadata": {},
   "outputs": [
    {
     "data": {
      "text/plain": [
       "2239.503657309026"
      ]
     },
     "execution_count": 115,
     "metadata": {},
     "output_type": "execute_result"
    }
   ],
   "source": [
    "mean_length"
   ]
  },
  {
   "cell_type": "code",
   "execution_count": 116,
   "metadata": {
    "collapsed": true
   },
   "outputs": [],
   "source": [
    "mean_total_amount = cleaned_taxi[:,13].mean()"
   ]
  },
  {
   "cell_type": "code",
   "execution_count": 117,
   "metadata": {},
   "outputs": [
    {
     "data": {
      "text/plain": [
       "48.981318532602621"
      ]
     },
     "execution_count": 117,
     "metadata": {},
     "output_type": "execute_result"
    }
   ],
   "source": [
    "mean_total_amount"
   ]
  },
  {
   "cell_type": "code",
   "execution_count": null,
   "metadata": {
    "collapsed": true
   },
   "outputs": [],
   "source": []
  }
 ],
 "metadata": {
  "kernelspec": {
   "display_name": "Python 3",
   "language": "python",
   "name": "python3"
  },
  "language_info": {
   "codemirror_mode": {
    "name": "ipython",
    "version": 3
   },
   "file_extension": ".py",
   "mimetype": "text/x-python",
   "name": "python",
   "nbconvert_exporter": "python",
   "pygments_lexer": "ipython3",
   "version": "3.6.3"
  }
 },
 "nbformat": 4,
 "nbformat_minor": 2
}
